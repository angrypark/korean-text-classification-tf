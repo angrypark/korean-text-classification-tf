{
 "cells": [
  {
   "cell_type": "code",
   "execution_count": 1,
   "metadata": {},
   "outputs": [],
   "source": [
    "class Config:\n",
    "    def __init__(self):\n",
    "        self.mode = 'train'\n",
    "        self.small = False\n",
    "        self.train_dir = \"data/train.txt\"\n",
    "        self.val_dir = \"data/test.txt\"\n",
    "        self.pretrained_embed_dir = \"\"\n",
    "        self.model = \"TextCNN\"\n",
    "        self.normalizer = \"BasicNormalizer\"\n",
    "        self.tokenizer = \"SyllableTokenizer\"\n",
    "        self.vectorizer = \"DummyVectorizer\"\n",
    "        self.vocab_size = 20000\n",
    "        self.embed_dim = 128\n",
    "        self.min_length = 5\n",
    "        self.max_length = 50\n",
    "        self.filter_sizes = \"3,4,5\"\n",
    "        self.num_filters = 128\n",
    "        self.dropout_keep_prob = 0.5\n",
    "        self.l2_reg_lambda = 0.0\n",
    "        self.batch_size = 64\n",
    "        self.num_epochs = 1\n",
    "        self.evaluate_every = 1\n",
    "        self.checkpoint_every = 1\n",
    "        self.allow_soft_replacement = True\n",
    "        self.log_device_placement = False\n",
    "        self.shuffle = False\n",
    "        self.checkpoint_dir = \"\"\n",
    "        self.num_checkpoints = 30"
   ]
  },
  {
   "cell_type": "code",
   "execution_count": 2,
   "metadata": {},
   "outputs": [],
   "source": [
    "config = Config()"
   ]
  },
  {
   "cell_type": "code",
   "execution_count": 3,
   "metadata": {},
   "outputs": [],
   "source": [
    "from data_loader import DataGenerator"
   ]
  },
  {
   "cell_type": "code",
   "execution_count": 4,
   "metadata": {},
   "outputs": [
    {
     "name": "stdout",
     "output_type": "stream",
     "text": [
      "Total number of unique tokens :  1662\n"
     ]
    }
   ],
   "source": [
    "data = DataGenerator(config)"
   ]
  },
  {
   "cell_type": "code",
   "execution_count": 6,
   "metadata": {},
   "outputs": [],
   "source": [
    "i = 0\n",
    "for x_batch, y_batch in data.next_batch(32):\n",
    "    if i==0:\n",
    "        x = x_batch\n",
    "        y = y_batch\n",
    "    i+=1"
   ]
  },
  {
   "cell_type": "code",
   "execution_count": 8,
   "metadata": {},
   "outputs": [
    {
     "data": {
      "text/plain": [
       "array([[ 911,  406,  270, ...,    0,    0,    0],\n",
       "       [ 771,  950, 1163, ...,    0,    0,    0],\n",
       "       [ 652, 1036,    4, ...,    0,    0,    0],\n",
       "       ...,\n",
       "       [ 240,  347,    4, ...,    0,    0,    0],\n",
       "       [1300, 1300,    4, ...,    0,    0,    0],\n",
       "       [ 651, 1232,    4, ...,    0,    0,    0]], dtype=int32)"
      ]
     },
     "execution_count": 8,
     "metadata": {},
     "output_type": "execute_result"
    }
   ],
   "source": [
    "x"
   ]
  },
  {
   "cell_type": "code",
   "execution_count": 1,
   "metadata": {},
   "outputs": [],
   "source": [
    "import datetime"
   ]
  },
  {
   "cell_type": "code",
   "execution_count": 14,
   "metadata": {},
   "outputs": [],
   "source": [
    "t = datetime.datetime.now()"
   ]
  },
  {
   "cell_type": "code",
   "execution_count": 18,
   "metadata": {},
   "outputs": [
    {
     "data": {
      "text/plain": [
       "'180530_1809'"
      ]
     },
     "execution_count": 18,
     "metadata": {},
     "output_type": "execute_result"
    }
   ],
   "source": [
    "t.strftime(\"%y%m%d_%H%M\")"
   ]
  },
  {
   "cell_type": "code",
   "execution_count": 20,
   "metadata": {},
   "outputs": [
    {
     "ename": "TypeError",
     "evalue": "can only concatenate list (not \"int\") to list",
     "output_type": "error",
     "traceback": [
      "\u001b[0;31m---------------------------------------------------------------------------\u001b[0m",
      "\u001b[0;31mTypeError\u001b[0m                                 Traceback (most recent call last)",
      "\u001b[0;32m<ipython-input-20-2b28a361b0ee>\u001b[0m in \u001b[0;36m<module>\u001b[0;34m()\u001b[0m\n\u001b[0;32m----> 1\u001b[0;31m \u001b[0msum\u001b[0m\u001b[0;34m(\u001b[0m\u001b[0;34m[\u001b[0m\u001b[0;36m1\u001b[0m\u001b[0;34m,\u001b[0m\u001b[0;36m2\u001b[0m\u001b[0;34m]\u001b[0m\u001b[0;34m,\u001b[0m \u001b[0;34m[\u001b[0m\u001b[0;36m2\u001b[0m\u001b[0;34m,\u001b[0m\u001b[0;36m3\u001b[0m\u001b[0;34m]\u001b[0m\u001b[0;34m)\u001b[0m\u001b[0;34m\u001b[0m\u001b[0m\n\u001b[0m",
      "\u001b[0;31mTypeError\u001b[0m: can only concatenate list (not \"int\") to list"
     ]
    }
   ],
   "source": [
    "sum([1,2], [2,3])"
   ]
  },
  {
   "cell_type": "code",
   "execution_count": null,
   "metadata": {},
   "outputs": [],
   "source": []
  }
 ],
 "metadata": {
  "kernelspec": {
   "display_name": "Python 3",
   "language": "python",
   "name": "python3"
  },
  "language_info": {
   "codemirror_mode": {
    "name": "ipython",
    "version": 3
   },
   "file_extension": ".py",
   "mimetype": "text/x-python",
   "name": "python",
   "nbconvert_exporter": "python",
   "pygments_lexer": "ipython3",
   "version": "3.6.4"
  }
 },
 "nbformat": 4,
 "nbformat_minor": 2
}
