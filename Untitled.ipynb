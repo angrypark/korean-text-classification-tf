{
 "cells": [
  {
   "cell_type": "code",
   "execution_count": 3,
   "metadata": {},
   "outputs": [],
   "source": [
    "import sys\n",
    "sys.path.append(\"/home/hs/mudbox/ml/\")"
   ]
  },
  {
   "cell_type": "code",
   "execution_count": 4,
   "metadata": {},
   "outputs": [],
   "source": [
    "from pingpong.utils import get_ingredient_factory"
   ]
  },
  {
   "cell_type": "code",
   "execution_count": 5,
   "metadata": {},
   "outputs": [],
   "source": [
    "factory = get_ingredient_factory()"
   ]
  },
  {
   "cell_type": "code",
   "execution_count": 6,
   "metadata": {},
   "outputs": [],
   "source": [
    "ft = factory.get_jamo_fasttext()"
   ]
  },
  {
   "cell_type": "code",
   "execution_count": 14,
   "metadata": {},
   "outputs": [
    {
     "data": {
      "text/plain": [
       "array([-0.93076  , -0.20626  ,  0.56994  ,  0.23847  , -0.57887  ,\n",
       "        0.062868 , -0.13581  ,  0.11508  , -0.53021  , -0.24537  ,\n",
       "        0.37134  ,  0.11034  ,  0.021628 ,  0.099695 ,  0.47822  ,\n",
       "        0.2173   ,  0.24874  , -0.46073  ,  0.046287 , -0.73978  ,\n",
       "       -0.73351  , -0.19882  ,  0.40901  , -0.5125   ,  0.44242  ,\n",
       "       -0.5387   , -0.51421  ,  0.090771 , -0.43013  , -0.2687   ,\n",
       "       -0.46615  , -0.18198  , -0.43067  , -0.34763  , -0.46325  ,\n",
       "        0.57533  ,  0.16596  ,  0.63253  , -0.31773  ,  0.67418  ,\n",
       "        0.26225  ,  0.38621  , -0.30901  , -0.28891  , -0.4047   ,\n",
       "       -0.051947 ,  0.41615  ,  0.38584  , -0.29262  , -0.068728 ,\n",
       "        0.17626  ,  0.48007  , -0.098287 ,  0.0088849, -0.20814  ,\n",
       "        0.010259 , -0.11464  ,  0.39518  ,  0.63     , -0.13801  ,\n",
       "       -0.0073118, -0.0021636,  0.037235 ,  0.016072 ,  0.47086  ,\n",
       "       -0.2905   , -0.26342  ,  0.14274  , -0.49526  , -0.38733  ,\n",
       "       -0.021962 ,  0.70707  ,  0.0438   ,  0.54114  , -0.089181 ,\n",
       "        0.24731  ,  0.27352  , -0.12835  ,  0.17048  ,  0.81262  ,\n",
       "       -0.062035 , -0.50479  , -0.19909  ,  0.50248  ,  0.46731  ,\n",
       "       -0.40685  , -0.19382  , -0.022155 , -0.41192  , -0.096816 ,\n",
       "       -0.37222  , -0.086279 ,  0.27477  ,  0.12317  , -0.346    ,\n",
       "       -0.0069335, -0.32508  ,  0.3439   ,  0.7561   ,  0.30418  ],\n",
       "      dtype=float32)"
      ]
     },
     "execution_count": 14,
     "metadata": {},
     "output_type": "execute_result"
    }
   ],
   "source": [
    "ft.get_word_vector(\"반가\")"
   ]
  },
  {
   "cell_type": "code",
   "execution_count": 22,
   "metadata": {},
   "outputs": [
    {
     "data": {
      "text/plain": [
       "'ㅇㅏㄴㄴㅕㅇㅎㅏ_ㅅㅔ_ㅇㅛ_'"
      ]
     },
     "execution_count": 22,
     "metadata": {},
     "output_type": "execute_result"
    }
   ],
   "source": [
    "ft.word_to_jamo_pipeline.run(\"안녕하세요\")"
   ]
  },
  {
   "cell_type": "code",
   "execution_count": 23,
   "metadata": {},
   "outputs": [],
   "source": [
    "import tensorflow"
   ]
  },
  {
   "cell_type": "code",
   "execution_count": null,
   "metadata": {},
   "outputs": [],
   "source": []
  }
 ],
 "metadata": {
  "kernelspec": {
   "display_name": "Python 3",
   "language": "python",
   "name": "python3"
  },
  "language_info": {
   "codemirror_mode": {
    "name": "ipython",
    "version": 3
   },
   "file_extension": ".py",
   "mimetype": "text/x-python",
   "name": "python",
   "nbconvert_exporter": "python",
   "pygments_lexer": "ipython3",
   "version": "3.6.4"
  }
 },
 "nbformat": 4,
 "nbformat_minor": 2
}
